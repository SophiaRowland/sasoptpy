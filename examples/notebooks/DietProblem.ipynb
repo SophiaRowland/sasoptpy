{
 "cells": [
  {
   "cell_type": "markdown",
   "metadata": {},
   "source": [
    "# Solving the Diet Problem with *sasoptpy*"
   ]
  },
  {
   "cell_type": "markdown",
   "metadata": {},
   "source": [
    "Diet problem, also known as *Stigler diet problem*, is one of the earliest optimization problems in the literature. [George J. Stigler](https://en.wikipedia.org/wiki/George_Stigler) originally posed the question of finding the cheapest diet, while satisfying the minimum nutritionial requirements [(Stigler, 1945)](www.jstor.org/stable/1231810).\n",
    "\n",
    "This well-known problem can be solved with Linear Optimization easily. Since methodology was not developed in 1937, Stigler solved this problem using heuristics, albeit his solution was not the optimal (best) solution. He only missed the best solution by 24 cents per year.\n",
    "\n",
    "Here, we will see how the problem can written in terms of mathematical equations and fed into SAS Viya Optimization solvers using the modeling capabilities of *sasoptpy* package.\n"
   ]
  },
  {
   "cell_type": "markdown",
   "metadata": {},
   "source": [
    "## Organizing data"
   ]
  },
  {
   "cell_type": "code",
   "execution_count": 1,
   "metadata": {},
   "outputs": [
    {
     "data": {
      "text/html": [
       "<div>\n",
       "<style scoped>\n",
       "    .dataframe tbody tr th:only-of-type {\n",
       "        vertical-align: middle;\n",
       "    }\n",
       "\n",
       "    .dataframe tbody tr th {\n",
       "        vertical-align: top;\n",
       "    }\n",
       "\n",
       "    .dataframe thead th {\n",
       "        text-align: right;\n",
       "    }\n",
       "</style>\n",
       "<table border=\"1\" class=\"dataframe\">\n",
       "  <thead>\n",
       "    <tr style=\"text-align: right;\">\n",
       "      <th></th>\n",
       "      <th>allowance</th>\n",
       "      <th>unit</th>\n",
       "    </tr>\n",
       "    <tr>\n",
       "      <th>nutrient</th>\n",
       "      <th></th>\n",
       "      <th></th>\n",
       "    </tr>\n",
       "  </thead>\n",
       "  <tbody>\n",
       "    <tr>\n",
       "      <th>calories</th>\n",
       "      <td>3.0</td>\n",
       "      <td>kilocalories</td>\n",
       "    </tr>\n",
       "    <tr>\n",
       "      <th>protein</th>\n",
       "      <td>70.0</td>\n",
       "      <td>grams</td>\n",
       "    </tr>\n",
       "    <tr>\n",
       "      <th>calcium</th>\n",
       "      <td>0.8</td>\n",
       "      <td>grams</td>\n",
       "    </tr>\n",
       "    <tr>\n",
       "      <th>iron</th>\n",
       "      <td>12.0</td>\n",
       "      <td>milligrams</td>\n",
       "    </tr>\n",
       "    <tr>\n",
       "      <th>vitamin_A</th>\n",
       "      <td>5.0</td>\n",
       "      <td>thousand IU</td>\n",
       "    </tr>\n",
       "    <tr>\n",
       "      <th>vitamin_B1</th>\n",
       "      <td>1.8</td>\n",
       "      <td>milligrams</td>\n",
       "    </tr>\n",
       "    <tr>\n",
       "      <th>vitamin_B2</th>\n",
       "      <td>2.7</td>\n",
       "      <td>milligrams</td>\n",
       "    </tr>\n",
       "    <tr>\n",
       "      <th>niacin</th>\n",
       "      <td>18.0</td>\n",
       "      <td>milligrams</td>\n",
       "    </tr>\n",
       "    <tr>\n",
       "      <th>vitamin_C</th>\n",
       "      <td>75.0</td>\n",
       "      <td>milligrams</td>\n",
       "    </tr>\n",
       "  </tbody>\n",
       "</table>\n",
       "</div>"
      ],
      "text/plain": [
       "            allowance          unit\n",
       "nutrient                           \n",
       "calories          3.0  kilocalories\n",
       "protein          70.0         grams\n",
       "calcium           0.8         grams\n",
       "iron             12.0    milligrams\n",
       "vitamin_A         5.0   thousand IU\n",
       "vitamin_B1        1.8    milligrams\n",
       "vitamin_B2        2.7    milligrams\n",
       "niacin           18.0    milligrams\n",
       "vitamin_C        75.0    milligrams"
      ]
     },
     "metadata": {},
     "output_type": "display_data"
    }
   ],
   "source": [
    "# Let us start with the nutritionial requrirements\n",
    "\n",
    "# We use pandas package to represent tabular data\n",
    "import pandas as pd\n",
    "\n",
    "req = pd.DataFrame([\n",
    "    ['calories', 3, 'kilocalories'],\n",
    "    ['protein', 70, 'grams'],\n",
    "    ['calcium', 0.8, 'grams'],\n",
    "    ['iron', 12, 'milligrams'],\n",
    "    ['vitamin_A', 5, 'thousand IU'],\n",
    "    ['vitamin_B1', 1.8, 'milligrams'],\n",
    "    ['vitamin_B2', 2.7, 'milligrams'],\n",
    "    ['niacin', 18, 'milligrams'],\n",
    "    ['vitamin_C', 75, 'milligrams']\n",
    "], columns=['nutrient', 'allowance', 'unit']).set_index('nutrient')\n",
    "\n",
    "# Print the table\n",
    "\n",
    "from IPython.display import display, HTML\n",
    "display(req)"
   ]
  },
  {
   "cell_type": "markdown",
   "metadata": {},
   "source": [
    "The `diet.csv` file includes nutritional information from Stigler's 1945 paper. Each nutrient information is listed for $1 equivalent of the listed foods."
   ]
  },
  {
   "cell_type": "code",
   "execution_count": 2,
   "metadata": {
    "scrolled": false
   },
   "outputs": [
    {
     "data": {
      "text/html": [
       "<div>\n",
       "<style scoped>\n",
       "    .dataframe tbody tr th:only-of-type {\n",
       "        vertical-align: middle;\n",
       "    }\n",
       "\n",
       "    .dataframe tbody tr th {\n",
       "        vertical-align: top;\n",
       "    }\n",
       "\n",
       "    .dataframe thead th {\n",
       "        text-align: right;\n",
       "    }\n",
       "</style>\n",
       "<table border=\"1\" class=\"dataframe\">\n",
       "  <thead>\n",
       "    <tr style=\"text-align: right;\">\n",
       "      <th></th>\n",
       "      <th>calories</th>\n",
       "      <th>protein</th>\n",
       "      <th>calcium</th>\n",
       "      <th>iron</th>\n",
       "      <th>vitamin_A</th>\n",
       "      <th>vitamin_B1</th>\n",
       "      <th>vitamin_B2</th>\n",
       "      <th>niacin</th>\n",
       "      <th>vitamin_C</th>\n",
       "    </tr>\n",
       "  </thead>\n",
       "  <tbody>\n",
       "    <tr>\n",
       "      <th>Wheat Flour (Enriched)</th>\n",
       "      <td>44.7</td>\n",
       "      <td>1411</td>\n",
       "      <td>2.0</td>\n",
       "      <td>365</td>\n",
       "      <td>0.0</td>\n",
       "      <td>55.4</td>\n",
       "      <td>33.3</td>\n",
       "      <td>441</td>\n",
       "      <td>0</td>\n",
       "    </tr>\n",
       "    <tr>\n",
       "      <th>Macaroni</th>\n",
       "      <td>11.6</td>\n",
       "      <td>418</td>\n",
       "      <td>0.7</td>\n",
       "      <td>54</td>\n",
       "      <td>0.0</td>\n",
       "      <td>3.2</td>\n",
       "      <td>1.9</td>\n",
       "      <td>68</td>\n",
       "      <td>0</td>\n",
       "    </tr>\n",
       "    <tr>\n",
       "      <th>Wheat Cereal (Enriched)</th>\n",
       "      <td>11.8</td>\n",
       "      <td>377</td>\n",
       "      <td>14.4</td>\n",
       "      <td>175</td>\n",
       "      <td>0.0</td>\n",
       "      <td>14.4</td>\n",
       "      <td>8.8</td>\n",
       "      <td>114</td>\n",
       "      <td>0</td>\n",
       "    </tr>\n",
       "    <tr>\n",
       "      <th>Corn Flakes</th>\n",
       "      <td>11.4</td>\n",
       "      <td>252</td>\n",
       "      <td>0.1</td>\n",
       "      <td>56</td>\n",
       "      <td>0.0</td>\n",
       "      <td>13.5</td>\n",
       "      <td>2.3</td>\n",
       "      <td>68</td>\n",
       "      <td>0</td>\n",
       "    </tr>\n",
       "    <tr>\n",
       "      <th>Corn Meal</th>\n",
       "      <td>36.0</td>\n",
       "      <td>897</td>\n",
       "      <td>1.7</td>\n",
       "      <td>99</td>\n",
       "      <td>30.9</td>\n",
       "      <td>17.4</td>\n",
       "      <td>7.9</td>\n",
       "      <td>106</td>\n",
       "      <td>0</td>\n",
       "    </tr>\n",
       "    <tr>\n",
       "      <th>Hominy Grits</th>\n",
       "      <td>28.6</td>\n",
       "      <td>680</td>\n",
       "      <td>0.8</td>\n",
       "      <td>80</td>\n",
       "      <td>0.0</td>\n",
       "      <td>10.6</td>\n",
       "      <td>1.6</td>\n",
       "      <td>110</td>\n",
       "      <td>0</td>\n",
       "    </tr>\n",
       "    <tr>\n",
       "      <th>Rice</th>\n",
       "      <td>21.2</td>\n",
       "      <td>460</td>\n",
       "      <td>0.6</td>\n",
       "      <td>41</td>\n",
       "      <td>0.0</td>\n",
       "      <td>2.0</td>\n",
       "      <td>4.8</td>\n",
       "      <td>60</td>\n",
       "      <td>0</td>\n",
       "    </tr>\n",
       "    <tr>\n",
       "      <th>Rolled Oats</th>\n",
       "      <td>25.3</td>\n",
       "      <td>907</td>\n",
       "      <td>5.1</td>\n",
       "      <td>341</td>\n",
       "      <td>0.0</td>\n",
       "      <td>37.1</td>\n",
       "      <td>8.9</td>\n",
       "      <td>64</td>\n",
       "      <td>0</td>\n",
       "    </tr>\n",
       "    <tr>\n",
       "      <th>White Bread (Enriched)</th>\n",
       "      <td>15.0</td>\n",
       "      <td>488</td>\n",
       "      <td>2.5</td>\n",
       "      <td>115</td>\n",
       "      <td>0.0</td>\n",
       "      <td>13.8</td>\n",
       "      <td>8.5</td>\n",
       "      <td>126</td>\n",
       "      <td>0</td>\n",
       "    </tr>\n",
       "    <tr>\n",
       "      <th>Whole Wheat Bread</th>\n",
       "      <td>12.2</td>\n",
       "      <td>484</td>\n",
       "      <td>2.7</td>\n",
       "      <td>125</td>\n",
       "      <td>0.0</td>\n",
       "      <td>13.9</td>\n",
       "      <td>6.4</td>\n",
       "      <td>160</td>\n",
       "      <td>0</td>\n",
       "    </tr>\n",
       "  </tbody>\n",
       "</table>\n",
       "</div>"
      ],
      "text/plain": [
       "                         calories  protein  calcium  iron  vitamin_A  \\\n",
       "Wheat Flour (Enriched)       44.7     1411      2.0   365        0.0   \n",
       "Macaroni                     11.6      418      0.7    54        0.0   \n",
       "Wheat Cereal (Enriched)      11.8      377     14.4   175        0.0   \n",
       "Corn Flakes                  11.4      252      0.1    56        0.0   \n",
       "Corn Meal                    36.0      897      1.7    99       30.9   \n",
       "Hominy Grits                 28.6      680      0.8    80        0.0   \n",
       "Rice                         21.2      460      0.6    41        0.0   \n",
       "Rolled Oats                  25.3      907      5.1   341        0.0   \n",
       "White Bread (Enriched)       15.0      488      2.5   115        0.0   \n",
       "Whole Wheat Bread            12.2      484      2.7   125        0.0   \n",
       "\n",
       "                         vitamin_B1  vitamin_B2  niacin  vitamin_C  \n",
       "Wheat Flour (Enriched)         55.4        33.3     441          0  \n",
       "Macaroni                        3.2         1.9      68          0  \n",
       "Wheat Cereal (Enriched)        14.4         8.8     114          0  \n",
       "Corn Flakes                    13.5         2.3      68          0  \n",
       "Corn Meal                      17.4         7.9     106          0  \n",
       "Hominy Grits                   10.6         1.6     110          0  \n",
       "Rice                            2.0         4.8      60          0  \n",
       "Rolled Oats                    37.1         8.9      64          0  \n",
       "White Bread (Enriched)         13.8         8.5     126          0  \n",
       "Whole Wheat Bread              13.9         6.4     160          0  "
      ]
     },
     "metadata": {},
     "output_type": "display_data"
    }
   ],
   "source": [
    "# Load the nutritional information from the file\n",
    "nutr = pd.read_csv('diet.csv', index_col=0)\n",
    "nutr.columns = req.index.tolist()\n",
    "\n",
    "# Print first 10 rows for reference\n",
    "display(nutr.head(10))"
   ]
  },
  {
   "cell_type": "code",
   "execution_count": 3,
   "metadata": {},
   "outputs": [
    {
     "data": {
      "text/plain": [
       "array([[<matplotlib.axes._subplots.AxesSubplot object at 0x00000185C3B62C18>,\n",
       "        <matplotlib.axes._subplots.AxesSubplot object at 0x00000185C5BB92E8>,\n",
       "        <matplotlib.axes._subplots.AxesSubplot object at 0x00000185C5BEB898>],\n",
       "       [<matplotlib.axes._subplots.AxesSubplot object at 0x00000185C5C1CE48>,\n",
       "        <matplotlib.axes._subplots.AxesSubplot object at 0x00000185C5C59438>,\n",
       "        <matplotlib.axes._subplots.AxesSubplot object at 0x00000185C5C8C9E8>],\n",
       "       [<matplotlib.axes._subplots.AxesSubplot object at 0x00000185C5CBDF98>,\n",
       "        <matplotlib.axes._subplots.AxesSubplot object at 0x00000185C5CFB5C0>,\n",
       "        <matplotlib.axes._subplots.AxesSubplot object at 0x00000185C5CFB5F8>]],\n",
       "      dtype=object)"
      ]
     },
     "metadata": {},
     "output_type": "display_data"
    },
    {
     "data": {
      "image/png": "[encoded data removed]",
      "text/plain": [
       "<Figure size 1080x720 with 9 Axes>"
      ]
     },
     "metadata": {
      "needs_background": "light"
     },
     "output_type": "display_data"
    }
   ],
   "source": [
    "%matplotlib inline\n",
    "# Show histogram of available values\n",
    "import matplotlib.pyplot as plt\n",
    "h = nutr.hist(figsize=(15,10))\n",
    "display(h)"
   ]
  },
  {
   "cell_type": "markdown",
   "metadata": {},
   "source": [
    "## Problem formulation"
   ]
  },
  {
   "cell_type": "markdown",
   "metadata": {},
   "source": [
    "The diet problem can be written as a linear optimization formulation.\n",
    "\n",
    "Denote $x_i$ as the servings of food item $i$ in our daily diet. The total cost of the diet is\n",
    "$$\n",
    "\\sum_{i} c_i x_i\n",
    "$$\n",
    "where $c_i$ is the cost per serving of food item $i$."
   ]
  },
  {
   "cell_type": "markdown",
   "metadata": {},
   "source": [
    "Using the nutritional info, let us denote $n_{ij}$ as the amount of nutrition $j$ in food item $i$. Since we are trying to satisfy the minimum daily intake, we can write this constraint using the following mathematical expression:\n",
    "$$\n",
    "\\sum_{i} n_{ij} x_i \\geq m_j\n",
    "$$\n",
    "where $m_j$ is the minimum intake for nutrient $j$."
   ]
  },
  {
   "cell_type": "markdown",
   "metadata": {},
   "source": [
    "We can write the linear optimization model as follows\n",
    "\n",
    "$$\n",
    "\\begin{array}{rrclcl}\n",
    "\\displaystyle \\textrm{minimize}_{x} & \\displaystyle {\\sum_{i \\in F} c_i x_i} \\\\\n",
    "\\textrm{subject to:} & \\displaystyle \\sum_{i \\in F} n_{ij} x_i & \\geq & m_j & & \\forall j \\in N \\\\\n",
    "\\end{array}\n",
    "$$"
   ]
  },
  {
   "cell_type": "markdown",
   "metadata": {},
   "source": [
    "## Modeling with Python"
   ]
  },
  {
   "cell_type": "code",
   "execution_count": 4,
   "metadata": {},
   "outputs": [],
   "source": [
    "# We use sasoptpy to solve this problem\n",
    "import sys\n",
    "sys.path.insert(0, r'../../')\n",
    "import sasoptpy as so\n",
    "so.reset()\n",
    "\n",
    "# We need swat package for connecting a running SAS Viya instance\n",
    "from swat import CAS\n",
    "\n",
    "# We will connect to the server\n",
    "import os\n",
    "host = os.environ['CASHOST']\n",
    "port = os.environ['CASPORT']\n",
    "session = CAS(host, port)"
   ]
  },
  {
   "cell_type": "code",
   "execution_count": 5,
   "metadata": {},
   "outputs": [
    {
     "name": "stdout",
     "output_type": "stream",
     "text": [
      "NOTE: Initialized model diet_problem.\n"
     ]
    }
   ],
   "source": [
    "# Create a model object\n",
    "m = so.Model(name='diet_problem', session=session)"
   ]
  },
  {
   "cell_type": "code",
   "execution_count": 6,
   "metadata": {},
   "outputs": [],
   "source": [
    "# Define sets\n",
    "F = nutr.index.tolist()\n",
    "N = nutr.columns.tolist()"
   ]
  },
  {
   "cell_type": "code",
   "execution_count": 7,
   "metadata": {},
   "outputs": [],
   "source": [
    "# Define variables\n",
    "x = m.add_variables(F, name='intake', lb=0)"
   ]
  },
  {
   "cell_type": "code",
   "execution_count": 8,
   "metadata": {},
   "outputs": [],
   "source": [
    "# Define objective\n",
    "total_cost = m.set_objective(so.expr_sum(x[i] for i in F), sense=so.MIN, name='total_cost')"
   ]
  },
  {
   "cell_type": "code",
   "execution_count": 9,
   "metadata": {},
   "outputs": [],
   "source": [
    "# Add the constraint\n",
    "nutrient_con = m.add_constraints(\n",
    "    (so.expr_sum(nutr.at[i, j] * x[i] for i in F) >= req['allowance'][j] for j in N), name='nutrient_con'\n",
    ")"
   ]
  },
  {
   "cell_type": "code",
   "execution_count": 10,
   "metadata": {
    "scrolled": false
   },
   "outputs": [
    {
     "name": "stdout",
     "output_type": "stream",
     "text": [
      "NOTE: Added action set 'optimization'.\n",
      "NOTE: Converting model diet_problem to OPTMODEL.\n",
      "NOTE: Submitting OPTMODEL code to CAS server.\n",
      "NOTE: Problem generation will use 8 threads.\n",
      "NOTE: The problem has 77 variables (0 free, 0 fixed).\n",
      "NOTE: The problem has 9 linear constraints (0 LE, 0 EQ, 9 GE, 0 range).\n",
      "NOTE: The problem has 570 linear constraint coefficients.\n",
      "NOTE: The problem has 0 nonlinear constraints (0 LE, 0 EQ, 0 GE, 0 range).\n",
      "NOTE: The OPTMODEL presolver is disabled for linear problems.\n",
      "NOTE: The LP presolver value AUTOMATIC is applied.\n",
      "NOTE: The LP presolver time is 0.01 seconds.\n",
      "NOTE: The LP presolver removed 20 variables and 0 constraints.\n",
      "NOTE: The LP presolver removed 120 constraint coefficients.\n",
      "NOTE: The presolved problem has 57 variables, 9 constraints, and 450 constraint coefficients.\n",
      "NOTE: The LP solver is called.\n",
      "NOTE: The Dual Simplex algorithm is used.\n",
      "                              Objective\n",
      "         Phase Iteration        Value         Time\n",
      "          D 2          1    0.000000E+00         0\n",
      "          D 2          8    1.086623E-01         0\n",
      "NOTE: Optimal.\n",
      "NOTE: Objective = 0.1086622782.\n",
      "NOTE: The Dual Simplex solve time is 0.05 seconds.\n",
      "NOTE: The output table 'SOLUTION' in caslib 'CASUSER(sercay@CARYNT)' has 77 rows and 6 columns.\n",
      "NOTE: The output table 'DUAL' in caslib 'CASUSER(sercay@CARYNT)' has 9 rows and 4 columns.\n",
      "NOTE: The CAS table 'solutionSummary' in caslib 'CASUSER(sercay@CARYNT)' has 13 rows and 4 columns.\n",
      "NOTE: The CAS table 'problemSummary' in caslib 'CASUSER(sercay@CARYNT)' has 18 rows and 4 columns.\n"
     ]
    }
   ],
   "source": [
    "# Solve the problem\n",
    "sol = m.solve()"
   ]
  },
  {
   "cell_type": "markdown",
   "metadata": {},
   "source": [
    "## Solution"
   ]
  },
  {
   "cell_type": "markdown",
   "metadata": {},
   "source": [
    "The daily cost of our diet is 0.1086 USD (in 1939 dollars). It is equivalent to only 39.66 USD per year."
   ]
  },
  {
   "cell_type": "code",
   "execution_count": 11,
   "metadata": {},
   "outputs": [
    {
     "name": "stdout",
     "output_type": "stream",
     "text": [
      "Wheat Flour (Enriched) 0.0295\n",
      "Liver (Beef) 0.0019\n",
      "Cabbage 0.0112\n",
      "Spinach 0.005\n",
      "Navy Beans, Dried 0.061\n"
     ]
    }
   ],
   "source": [
    "# Let us print the selected food items\n",
    "for i in F:\n",
    "    if x[i].get_value() > 0:\n",
    "        print(i, round(x[i].get_value(), 4))"
   ]
  },
  {
   "cell_type": "code",
   "execution_count": 12,
   "metadata": {
    "scrolled": false
   },
   "outputs": [
    {
     "data": {
      "text/html": [
       "<div>\n",
       "<style scoped>\n",
       "    .dataframe tbody tr th:only-of-type {\n",
       "        vertical-align: middle;\n",
       "    }\n",
       "\n",
       "    .dataframe tbody tr th {\n",
       "        vertical-align: top;\n",
       "    }\n",
       "\n",
       "    .dataframe thead th {\n",
       "        text-align: right;\n",
       "    }\n",
       "</style>\n",
       "<table border=\"1\" class=\"dataframe\">\n",
       "  <thead>\n",
       "    <tr style=\"text-align: right;\">\n",
       "      <th></th>\n",
       "      <th>cost</th>\n",
       "      <th>total_calories</th>\n",
       "      <th>total_protein</th>\n",
       "      <th>total_calcium</th>\n",
       "      <th>total_iron</th>\n",
       "      <th>total_vitamin_A</th>\n",
       "      <th>total_vitamin_B1</th>\n",
       "      <th>total_vitamin_B2</th>\n",
       "      <th>total_niacin</th>\n",
       "      <th>total_vitamin_C</th>\n",
       "    </tr>\n",
       "    <tr>\n",
       "      <th>food</th>\n",
       "      <th></th>\n",
       "      <th></th>\n",
       "      <th></th>\n",
       "      <th></th>\n",
       "      <th></th>\n",
       "      <th></th>\n",
       "      <th></th>\n",
       "      <th></th>\n",
       "      <th></th>\n",
       "      <th></th>\n",
       "    </tr>\n",
       "  </thead>\n",
       "  <tbody>\n",
       "    <tr>\n",
       "      <th>Wheat Flour (Enriched)</th>\n",
       "      <td>0.029519</td>\n",
       "      <td>1.319502</td>\n",
       "      <td>41.651396</td>\n",
       "      <td>0.059038</td>\n",
       "      <td>10.774458</td>\n",
       "      <td>0.000000</td>\n",
       "      <td>1.635356</td>\n",
       "      <td>0.982985</td>\n",
       "      <td>13.017906</td>\n",
       "      <td>0.000000</td>\n",
       "    </tr>\n",
       "    <tr>\n",
       "      <th>Liver (Beef)</th>\n",
       "      <td>0.001893</td>\n",
       "      <td>0.004164</td>\n",
       "      <td>0.630222</td>\n",
       "      <td>0.000379</td>\n",
       "      <td>0.263065</td>\n",
       "      <td>0.320221</td>\n",
       "      <td>0.012112</td>\n",
       "      <td>0.096142</td>\n",
       "      <td>0.598048</td>\n",
       "      <td>0.993593</td>\n",
       "    </tr>\n",
       "    <tr>\n",
       "      <th>Cabbage</th>\n",
       "      <td>0.011214</td>\n",
       "      <td>0.029158</td>\n",
       "      <td>1.401804</td>\n",
       "      <td>0.044858</td>\n",
       "      <td>0.403720</td>\n",
       "      <td>0.080744</td>\n",
       "      <td>0.100930</td>\n",
       "      <td>0.050465</td>\n",
       "      <td>0.291575</td>\n",
       "      <td>60.210303</td>\n",
       "    </tr>\n",
       "    <tr>\n",
       "      <th>Spinach</th>\n",
       "      <td>0.005008</td>\n",
       "      <td>0.005508</td>\n",
       "      <td>0.530812</td>\n",
       "      <td>0.000000</td>\n",
       "      <td>0.691057</td>\n",
       "      <td>4.599035</td>\n",
       "      <td>0.028544</td>\n",
       "      <td>0.069106</td>\n",
       "      <td>0.165253</td>\n",
       "      <td>13.796105</td>\n",
       "    </tr>\n",
       "    <tr>\n",
       "      <th>Navy Beans, Dried</th>\n",
       "      <td>0.061029</td>\n",
       "      <td>1.641668</td>\n",
       "      <td>103.199301</td>\n",
       "      <td>0.695726</td>\n",
       "      <td>48.334622</td>\n",
       "      <td>0.000000</td>\n",
       "      <td>2.343497</td>\n",
       "      <td>1.501303</td>\n",
       "      <td>13.243198</td>\n",
       "      <td>0.000000</td>\n",
       "    </tr>\n",
       "    <tr>\n",
       "      <th>Total</th>\n",
       "      <td>0.108662</td>\n",
       "      <td>3.000000</td>\n",
       "      <td>147.413535</td>\n",
       "      <td>0.800000</td>\n",
       "      <td>60.466922</td>\n",
       "      <td>5.000000</td>\n",
       "      <td>4.120439</td>\n",
       "      <td>2.700000</td>\n",
       "      <td>27.315981</td>\n",
       "      <td>75.000000</td>\n",
       "    </tr>\n",
       "  </tbody>\n",
       "</table>\n",
       "</div>"
      ],
      "text/plain": [
       "                            cost  total_calories  total_protein  \\\n",
       "food                                                              \n",
       "Wheat Flour (Enriched)  0.029519        1.319502      41.651396   \n",
       "Liver (Beef)            0.001893        0.004164       0.630222   \n",
       "Cabbage                 0.011214        0.029158       1.401804   \n",
       "Spinach                 0.005008        0.005508       0.530812   \n",
       "Navy Beans, Dried       0.061029        1.641668     103.199301   \n",
       "Total                   0.108662        3.000000     147.413535   \n",
       "\n",
       "                        total_calcium  total_iron  total_vitamin_A  \\\n",
       "food                                                                 \n",
       "Wheat Flour (Enriched)       0.059038   10.774458         0.000000   \n",
       "Liver (Beef)                 0.000379    0.263065         0.320221   \n",
       "Cabbage                      0.044858    0.403720         0.080744   \n",
       "Spinach                      0.000000    0.691057         4.599035   \n",
       "Navy Beans, Dried            0.695726   48.334622         0.000000   \n",
       "Total                        0.800000   60.466922         5.000000   \n",
       "\n",
       "                        total_vitamin_B1  total_vitamin_B2  total_niacin  \\\n",
       "food                                                                       \n",
       "Wheat Flour (Enriched)          1.635356          0.982985     13.017906   \n",
       "Liver (Beef)                    0.012112          0.096142      0.598048   \n",
       "Cabbage                         0.100930          0.050465      0.291575   \n",
       "Spinach                         0.028544          0.069106      0.165253   \n",
       "Navy Beans, Dried               2.343497          1.501303     13.243198   \n",
       "Total                           4.120439          2.700000     27.315981   \n",
       "\n",
       "                        total_vitamin_C  \n",
       "food                                     \n",
       "Wheat Flour (Enriched)         0.000000  \n",
       "Liver (Beef)                   0.993593  \n",
       "Cabbage                       60.210303  \n",
       "Spinach                       13.796105  \n",
       "Navy Beans, Dried              0.000000  \n",
       "Total                         75.000000  "
      ]
     },
     "metadata": {},
     "output_type": "display_data"
    }
   ],
   "source": [
    "# Let us visualize the results\n",
    "res = []\n",
    "for i in F:\n",
    "    if x[i].get_value() > 0:\n",
    "        res.append([i, x[i].get_value(),])\n",
    "\n",
    "resdf = pd.DataFrame(res, columns=['food', 'cost']).set_index(['food'])\n",
    "resdf = resdf.join(nutr)\n",
    "for i in N:\n",
    "    resdf['total_'+i] = resdf['cost'] * resdf[i]\n",
    "    resdf = resdf.drop([i], axis=1)\n",
    "\n",
    "totaldf = resdf.append(resdf.sum().rename('Total'))\n",
    "\n",
    "display(totaldf)"
   ]
  },
  {
   "cell_type": "code",
   "execution_count": 13,
   "metadata": {
    "scrolled": false
   },
   "outputs": [
    {
     "data": {
      "text/plain": [
       "array([<matplotlib.axes._subplots.AxesSubplot object at 0x00000185C81BD208>,\n",
       "       <matplotlib.axes._subplots.AxesSubplot object at 0x00000185C82141D0>,\n",
       "       <matplotlib.axes._subplots.AxesSubplot object at 0x00000185C82852E8>,\n",
       "       <matplotlib.axes._subplots.AxesSubplot object at 0x00000185C82B8400>,\n",
       "       <matplotlib.axes._subplots.AxesSubplot object at 0x00000185C81E2400>,\n",
       "       <matplotlib.axes._subplots.AxesSubplot object at 0x00000185C83241D0>,\n",
       "       <matplotlib.axes._subplots.AxesSubplot object at 0x00000185C83592E8>,\n",
       "       <matplotlib.axes._subplots.AxesSubplot object at 0x00000185C8388860>,\n",
       "       <matplotlib.axes._subplots.AxesSubplot object at 0x00000185C83BCE48>,\n",
       "       <matplotlib.axes._subplots.AxesSubplot object at 0x00000185C83F9438>],\n",
       "      dtype=object)"
      ]
     },
     "execution_count": 13,
     "metadata": {},
     "output_type": "execute_result"
    },
    {
     "data": {
      "image/png": "[encoded data removed]",
      "text/plain": [
       "<Figure size 1008x1440 with 10 Axes>"
      ]
     },
     "metadata": {
      "needs_background": "light"
     },
     "output_type": "display_data"
    }
   ],
   "source": [
    "import matplotlib.pyplot as plt\n",
    "fig, ax = plt.subplots(nrows=5, ncols=2, figsize=(14,20))\n",
    "plt.subplots_adjust(wspace=0.6, hspace=0.4)\n",
    "resdf.plot(kind='barh', subplots=True, ax=ax)"
   ]
  },
  {
   "cell_type": "markdown",
   "metadata": {},
   "source": [
    "Navy beans and wheat flour dominate calories, protein, iron, vitamin B1, vitamin B2, and niacin intake."
   ]
  }
 ],
 "metadata": {
  "kernelspec": {
   "display_name": "Python 3",
   "language": "python",
   "name": "python3"
  },
  "language_info": {
   "codemirror_mode": {
    "name": "ipython",
    "version": 3
   },
   "file_extension": ".py",
   "mimetype": "text/x-python",
   "name": "python",
   "nbconvert_exporter": "python",
   "pygments_lexer": "ipython3",
   "version": "3.6.5"
  }
 },
 "nbformat": 4,
 "nbformat_minor": 2
}
